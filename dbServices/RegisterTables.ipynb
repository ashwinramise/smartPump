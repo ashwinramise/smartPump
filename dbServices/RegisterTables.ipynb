{
 "cells": [
  {
   "cell_type": "code",
   "execution_count": 1,
   "id": "91fde774",
   "metadata": {},
   "outputs": [],
   "source": [
    "import pandas as pd\n",
    "import pyodbc as db\n",
    "import db_config as config\n",
    "import numpy as np\n",
    "import time"
   ]
  },
  {
   "cell_type": "markdown",
   "id": "166d1a37",
   "metadata": {},
   "source": [
    "#### Connect to the Database"
   ]
  },
  {
   "cell_type": "code",
   "execution_count": 19,
   "id": "0ee55d3b",
   "metadata": {},
   "outputs": [],
   "source": [
    "conn = db.connect(DRIVER='SQL Server',\n",
    "                 SERVER = config.server_name,\n",
    "                 UID = config.user,\n",
    "                 PWD=config.pwd,\n",
    "                 DATABASE=config.database_name)"
   ]
  },
  {
   "cell_type": "code",
   "execution_count": 20,
   "id": "35425faa",
   "metadata": {},
   "outputs": [
    {
     "data": {
      "text/plain": [
       "<pyodbc.Connection at 0x1ce1fbf5b00>"
      ]
     },
     "execution_count": 20,
     "metadata": {},
     "output_type": "execute_result"
    }
   ],
   "source": [
    "conn"
   ]
  },
  {
   "cell_type": "markdown",
   "id": "829afc3d",
   "metadata": {},
   "source": [
    "#### Read the Tags from the excel sheet and modify data"
   ]
  },
  {
   "cell_type": "code",
   "execution_count": 3,
   "id": "4b533018",
   "metadata": {},
   "outputs": [],
   "source": [
    "monitor = pd.read_excel('MonitoringData.xlsx')\n",
    "monitor2= monitor.dropna(subset='Address').reset_index().drop(columns='index')\n",
    "monitor2['Address'] = [int(i) for i in monitor2['Address']]"
   ]
  },
  {
   "cell_type": "code",
   "execution_count": 4,
   "id": "a30ba70b",
   "metadata": {},
   "outputs": [],
   "source": [
    "cols = monitor2.columns.tolist()\n",
    "for col in cols:\n",
    "    monitor2[col] = [str(i) for i in monitor2[col]]"
   ]
  },
  {
   "cell_type": "code",
   "execution_count": 5,
   "id": "a95dfcac",
   "metadata": {},
   "outputs": [],
   "source": [
    "monitor2 = monitor2.replace('nan', 'NA')"
   ]
  },
  {
   "cell_type": "markdown",
   "id": "eb7ed4bf",
   "metadata": {},
   "source": [
    "#### Custom functions to create table, Write, read and delete tags"
   ]
  },
  {
   "cell_type": "code",
   "execution_count": 6,
   "id": "81db6293",
   "metadata": {},
   "outputs": [],
   "source": [
    "def createTable(db_name, tablename, columns, conn):\n",
    "    insertCMD = f'''CREATE TABLE \"{tablename}\" ({columns});'''\n",
    "    cur = conn.cursor()\n",
    "    try:\n",
    "        cur.execute(insertCMD)\n",
    "        conn.commit()\n",
    "        print(f\"Table {tablename} was created in DB {db_name}\")\n",
    "    except(Exception, db.DatabaseError) as error:\n",
    "        print(error)"
   ]
  },
  {
   "cell_type": "code",
   "execution_count": 7,
   "id": "187a9141",
   "metadata": {},
   "outputs": [],
   "source": [
    "def writeValues(metrics, conn, table):\n",
    "    try:\n",
    "        cur = conn.cursor()\n",
    "    except (Exception, db.DatabaseError) as error:\n",
    "        print(error)\n",
    "    keys = list(metrics.keys())\n",
    "    values = tuple(metrics.values())\n",
    "    cols = '\"' + ('\",\"').join(keys) + '\"'\n",
    "    s_lens = \"?,\"*len(keys)\n",
    "    s = s_lens.split(\",\")\n",
    "    s = (\",\").join(s[:-1])\n",
    "    insertQ = f\"\"\" INSERT INTO {table} ({cols})\n",
    "                    VALUES({s})\"\"\"\n",
    "    try:\n",
    "        cur.execute(insertQ, values)\n",
    "        conn.commit()\n",
    "        print(f'Values Inserted: {values}')\n",
    "    except (Exception, db.DatabaseError) as error:\n",
    "        print(error)"
   ]
  },
  {
   "cell_type": "code",
   "execution_count": 21,
   "id": "21c20565",
   "metadata": {},
   "outputs": [],
   "source": [
    "def getData(tablename, conn):\n",
    "    qu = f'select * from \"{tablename}\"'\n",
    "    alldata = pd.read_sql_query(qu, conn)\n",
    "    return alldata"
   ]
  },
  {
   "cell_type": "code",
   "execution_count": 9,
   "id": "13762443",
   "metadata": {},
   "outputs": [],
   "source": [
    "def delData(tablename, conn):\n",
    "    try:\n",
    "        cur = conn.cursor()\n",
    "        q = f\"delete from {tablename};\"\n",
    "        cur.execute(q)\n",
    "        l = getData(tablename, conn)\n",
    "        if len(l['Address'].tolist()) == 0:\n",
    "            print(\"Delete Succesful\")\n",
    "    except (Exception, db.DatabaseError) as error:\n",
    "        print(error)"
   ]
  },
  {
   "cell_type": "markdown",
   "id": "54f19f3c",
   "metadata": {},
   "source": [
    "#### Write the tag info and test if all info is available"
   ]
  },
  {
   "cell_type": "code",
   "execution_count": 10,
   "id": "838218c2",
   "metadata": {
    "collapsed": true
   },
   "outputs": [
    {
     "name": "stdout",
     "output_type": "stream",
     "text": [
      "Values Inserted: ('207', 'ActualSetpointManualHI', '0.1 ml/h', 'The actual setpoint used in operating mode \"Manual\".')\n",
      "Values Inserted: ('208', 'ActualSetpointManualLO', 'NA', 'Can be set via SetpointManual (register 00106-00107) or via the pump HMI.')\n",
      "Values Inserted: ('209', 'ActualPulseVolumeHI', '1 nl', 'The actual pulse volume used in operating mode \"Pulse\".')\n",
      "Values Inserted: ('210', 'ActualPulseVolumeLO', 'NA', 'Can be set via SetPulseVolume (register 00108-00109) or via the pump HMI.')\n",
      "Values Inserted: ('211', 'ActualBatchDosingVolumeHI', '0.001 ml', 'Can be set via SetBatchDosingVolume (register 00110-00111) or via the pump')\n",
      "Values Inserted: ('212', 'ActualBatchDosingVolumeLO', 'NA', 'HMI.')\n",
      "Values Inserted: ('213', 'ActualBatchDosingTimeHI', '0.1 s', 'The actual batch dosing time used in operating mode \"Batch\".')\n",
      "Values Inserted: ('214', 'ActualBatchDosingTimeLO', 'NA', 'Can be set via SetBatchDosingTime (register 00112-00113) or via the pump HMI.')\n",
      "Values Inserted: ('215', 'ActualPressureMax', '0.1 bar', 'Actual value of (relative) pressure alarm limit setting.\\nCan be set via SetPressureMax (register 00114) or via the pump HMI.')\n",
      "Values Inserted: ('216', 'ControlSourceStates', 'Bits', 'Status of start/stop control sources, \"1\" means \"Active\". They can be active\\nsimultaneously.\\nBit 0: Stop via pump HMI\\nBit 1: External stop\\nBit 2: Stop from bus.')\n",
      "Values Inserted: ('217', 'FaultCode', 'Enum', 'NA')\n",
      "Values Inserted: ('218', 'WarningCode', 'Enum', 'See section 8.11Alarms and warning.')\n",
      "Values Inserted: ('219', 'WarningBits', 'Bits', 'NA')\n",
      "Values Inserted: ('220', 'DateTimeYear', 'NA', 'Present value of the internal real-time clock (RTC).')\n",
      "Values Inserted: ('221', 'DateTimeMonth', 'NA', 'Year (from year 2000)')\n",
      "Values Inserted: ('222', 'DateTimeDay', 'BCD', 'Hour [0-23]')\n",
      "Values Inserted: ('223', 'DateTimeHour', 'NA', 'Second [0-59]')\n",
      "Values Inserted: ('224', 'DateTimeMinute', 'NA', '15:38:00, April 24 2011, is coded with hexadecimal numbers as:')\n",
      "Values Inserted: ('225', 'DateTimeSecond', 'NA', 'Year = 11h, Month = 04h, Day = 24h, Hour = 15h, Minute = 38h, Second = 00h.')\n",
      "Values Inserted: ('301', 'DosingPressureMax', 'Bar', 'Maximum dosing pressure, fixed factory-set value for this pump type.')\n",
      "Values Inserted: ('302', 'DosingCapacityMaxHI', '0.1 ml/h', 'Maximum dosing capacity, fixed factory-set value for this pump type.')\n",
      "Values Inserted: ('303', 'DosingCapacityMaxLO', 'NA', 'NA')\n",
      "Values Inserted: ('304', 'DosingCapacityReferenceHI', '0.1 ml/h', 'The dosing capacity setpoint shown in the pump display. It represents the actual')\n",
      "Values Inserted: ('305', 'DosingCapacityReferenceLO', 'NA', 'setpoint belonging to the actual operating mode and dosing state.')\n",
      "Values Inserted: ('306', 'MeasuredDosingCapacityHI', '0.1 ml/h', 'Measured (actual) dosing capacity. FlowControl bit in control register 00102 must be enabled for this value to be available.')\n",
      "Values Inserted: ('307', 'MeasuredDosingCapacityLO', 'NA', 'NA')\n",
      "Values Inserted: ('308', 'MeasuredPressure', '0.1 bar', 'Measured absolute pressure.\\nFlowControl bit in control register 00102 must be enabled. Except for the\\natmospheric pressure, it corresponds to \"Backpressure\" reading in the display.')\n",
      "Values Inserted: ('309', 'PulseInputFrequency', '1 Hz', 'Frequency of pulse input (external pulse input signal or Modbus Pulse command\\nin control register 00103).')\n",
      "Values Inserted: ('310', 'RemainingDosingVolumeHI', '0.001 ml', 'Actual remaining volume to be dosed. Used in \"Batch\" mode.')\n",
      "Values Inserted: ('311', 'RemainingDosingVolumeLO', 'NA', 'NA')\n",
      "Values Inserted: ('312', 'VolumeTotalHI', '0.001 l', 'Total volume dosed (non-resettable).')\n",
      "Values Inserted: ('313', 'VolumeTotalLO', 'NA', 'NA')\n",
      "Values Inserted: ('314', 'VolumeTripCounterHI', '0.001 l', 'Dosed-volume trip counter (reset with ResetVolumeCounter command in control')\n",
      "Values Inserted: ('315', 'VolumeTripCounterLO', 'NA', 'register 00103).')\n",
      "Values Inserted: ('320', 'NumberOfPowerOns', '-', 'Counts the number of times the pump has been powered on (non-resettable).')\n",
      "Values Inserted: ('321', 'RunTimeHI', '1', 'Counts the time the DDA pump has been dosing (non-resettable).')\n",
      "Values Inserted: ('322', 'RunTimeLO', 'NA', 'NA')\n",
      "Values Inserted: ('323', 'OperatingHoursHI', '1 s', 'Counts the number of hours the DDA pump has been switched on. It counts both')\n",
      "Values Inserted: ('324', 'OperatingHoursLO', 'NA', 'when the pump is dosing and when it is not dosing.')\n",
      "Values Inserted: ('325', 'StrokeCounterHI', '-', 'Counts the number of strokes (non-resettable).')\n",
      "Values Inserted: ('326', 'StrokeCounterLO', 'NA', 'NA')\n",
      "Values Inserted: ('327', 'TimeToNextDosingHI', '1 s', 'Time before the next dosing takes place (only in \"Timer\" mode).')\n",
      "Values Inserted: ('328', 'TimeToNextDosingLO', 'NA', 'NA')\n"
     ]
    }
   ],
   "source": [
    "data = monitor2.to_dict('records')\n",
    "for metrics in data:\n",
    "    try:\n",
    "        writeValues(metrics, conn, \"PoC_SP_MonitoringTags\")\n",
    "    except pyodbc.Error as pe:\n",
    "        print(\"Error:\", pe)\n",
    "        if pe.args[0] == \"08S01\":  # Communication error.\n",
    "            # Nuke the connection and retry.\n",
    "            try:\n",
    "                conn.close()\n",
    "                print(\"Connection Ended\")\n",
    "            except:\n",
    "                pass\n",
    "            continue"
   ]
  },
  {
   "cell_type": "code",
   "execution_count": 19,
   "id": "728f2535",
   "metadata": {
    "scrolled": true
   },
   "outputs": [
    {
     "name": "stderr",
     "output_type": "stream",
     "text": [
      "C:\\Users\\ramachandran\\AppData\\Local\\Programs\\Python\\Python310\\lib\\site-packages\\pandas\\io\\sql.py:761: UserWarning: pandas only support SQLAlchemy connectable(engine/connection) ordatabase string URI or sqlite3 DBAPI2 connectionother DBAPI2 objects are not tested, please consider using SQLAlchemy\n",
      "  warnings.warn(\n"
     ]
    },
    {
     "data": {
      "text/html": [
       "<div>\n",
       "<style scoped>\n",
       "    .dataframe tbody tr th:only-of-type {\n",
       "        vertical-align: middle;\n",
       "    }\n",
       "\n",
       "    .dataframe tbody tr th {\n",
       "        vertical-align: top;\n",
       "    }\n",
       "\n",
       "    .dataframe thead th {\n",
       "        text-align: right;\n",
       "    }\n",
       "</style>\n",
       "<table border=\"1\" class=\"dataframe\">\n",
       "  <thead>\n",
       "    <tr style=\"text-align: right;\">\n",
       "      <th></th>\n",
       "      <th>Address</th>\n",
       "      <th>Register name</th>\n",
       "      <th>Scale</th>\n",
       "      <th>Description</th>\n",
       "    </tr>\n",
       "  </thead>\n",
       "  <tbody>\n",
       "    <tr>\n",
       "      <th>0</th>\n",
       "      <td>207</td>\n",
       "      <td>ActualSetpointManualHI</td>\n",
       "      <td>0.1 ml/h</td>\n",
       "      <td>The actual setpoint used in operating mode \"Ma...</td>\n",
       "    </tr>\n",
       "    <tr>\n",
       "      <th>1</th>\n",
       "      <td>208</td>\n",
       "      <td>ActualSetpointManualLO</td>\n",
       "      <td>NA</td>\n",
       "      <td>Can be set via SetpointManual (register 00106-...</td>\n",
       "    </tr>\n",
       "    <tr>\n",
       "      <th>2</th>\n",
       "      <td>209</td>\n",
       "      <td>ActualPulseVolumeHI</td>\n",
       "      <td>1 nl</td>\n",
       "      <td>The actual pulse volume used in operating mode...</td>\n",
       "    </tr>\n",
       "    <tr>\n",
       "      <th>3</th>\n",
       "      <td>210</td>\n",
       "      <td>ActualPulseVolumeLO</td>\n",
       "      <td>NA</td>\n",
       "      <td>Can be set via SetPulseVolume (register 00108-...</td>\n",
       "    </tr>\n",
       "    <tr>\n",
       "      <th>4</th>\n",
       "      <td>211</td>\n",
       "      <td>ActualBatchDosingVolumeHI</td>\n",
       "      <td>0.001 ml</td>\n",
       "      <td>Can be set via SetBatchDosingVolume (register ...</td>\n",
       "    </tr>\n",
       "    <tr>\n",
       "      <th>...</th>\n",
       "      <td>...</td>\n",
       "      <td>...</td>\n",
       "      <td>...</td>\n",
       "      <td>...</td>\n",
       "    </tr>\n",
       "    <tr>\n",
       "      <th>81</th>\n",
       "      <td>324</td>\n",
       "      <td>OperatingHoursLO</td>\n",
       "      <td>NA</td>\n",
       "      <td>when the pump is dosing and when it is not dos...</td>\n",
       "    </tr>\n",
       "    <tr>\n",
       "      <th>82</th>\n",
       "      <td>325</td>\n",
       "      <td>StrokeCounterHI</td>\n",
       "      <td>-</td>\n",
       "      <td>Counts the number of strokes (non-resettable).</td>\n",
       "    </tr>\n",
       "    <tr>\n",
       "      <th>83</th>\n",
       "      <td>326</td>\n",
       "      <td>StrokeCounterLO</td>\n",
       "      <td>NA</td>\n",
       "      <td>NA</td>\n",
       "    </tr>\n",
       "    <tr>\n",
       "      <th>84</th>\n",
       "      <td>327</td>\n",
       "      <td>TimeToNextDosingHI</td>\n",
       "      <td>1 s</td>\n",
       "      <td>Time before the next dosing takes place (only ...</td>\n",
       "    </tr>\n",
       "    <tr>\n",
       "      <th>85</th>\n",
       "      <td>328</td>\n",
       "      <td>TimeToNextDosingLO</td>\n",
       "      <td>NA</td>\n",
       "      <td>NA</td>\n",
       "    </tr>\n",
       "  </tbody>\n",
       "</table>\n",
       "<p>86 rows × 4 columns</p>\n",
       "</div>"
      ],
      "text/plain": [
       "   Address              Register name     Scale  \\\n",
       "0      207     ActualSetpointManualHI  0.1 ml/h   \n",
       "1      208     ActualSetpointManualLO        NA   \n",
       "2      209        ActualPulseVolumeHI      1 nl   \n",
       "3      210        ActualPulseVolumeLO        NA   \n",
       "4      211  ActualBatchDosingVolumeHI  0.001 ml   \n",
       "..     ...                        ...       ...   \n",
       "81     324           OperatingHoursLO        NA   \n",
       "82     325            StrokeCounterHI         -   \n",
       "83     326            StrokeCounterLO        NA   \n",
       "84     327         TimeToNextDosingHI       1 s   \n",
       "85     328         TimeToNextDosingLO        NA   \n",
       "\n",
       "                                          Description  \n",
       "0   The actual setpoint used in operating mode \"Ma...  \n",
       "1   Can be set via SetpointManual (register 00106-...  \n",
       "2   The actual pulse volume used in operating mode...  \n",
       "3   Can be set via SetPulseVolume (register 00108-...  \n",
       "4   Can be set via SetBatchDosingVolume (register ...  \n",
       "..                                                ...  \n",
       "81  when the pump is dosing and when it is not dos...  \n",
       "82     Counts the number of strokes (non-resettable).  \n",
       "83                                                 NA  \n",
       "84  Time before the next dosing takes place (only ...  \n",
       "85                                                 NA  \n",
       "\n",
       "[86 rows x 4 columns]"
      ]
     },
     "execution_count": 19,
     "metadata": {},
     "output_type": "execute_result"
    }
   ],
   "source": [
    "getData(\"PoC_SP_MonitoringTags\", conn)"
   ]
  },
  {
   "cell_type": "code",
   "execution_count": 13,
   "id": "ecc5707a",
   "metadata": {},
   "outputs": [],
   "source": [
    "columns = \"\"\n",
    "for col in monitor2['Address'].tolist():\n",
    "    if columns == \"\":\n",
    "        columns = f'\"{col}\" text'\n",
    "    else:\n",
    "        columns = f'{columns}, \"{col}\" text'"
   ]
  },
  {
   "cell_type": "code",
   "execution_count": 16,
   "id": "0357b1ff",
   "metadata": {},
   "outputs": [
    {
     "name": "stdout",
     "output_type": "stream",
     "text": [
      "Table PoC_SP_Metrics was created in DB budig-bb-pltsql-05-d\n"
     ]
    }
   ],
   "source": [
    "createTable(config.database_name, 'PoC_SP_Metrics', columns, conn)"
   ]
  },
  {
   "cell_type": "code",
   "execution_count": 20,
   "id": "43e3187c",
   "metadata": {},
   "outputs": [
    {
     "data": {
      "text/plain": [
       "[{'Address': '207',\n",
       "  'Register name': 'ActualSetpointManualHI',\n",
       "  'Scale': '0.1 ml/h',\n",
       "  'Description': 'The actual setpoint used in operating mode \"Manual\".'},\n",
       " {'Address': '208',\n",
       "  'Register name': 'ActualSetpointManualLO',\n",
       "  'Scale': 'NA',\n",
       "  'Description': 'Can be set via SetpointManual (register 00106-00107) or via the pump HMI.'},\n",
       " {'Address': '209',\n",
       "  'Register name': 'ActualPulseVolumeHI',\n",
       "  'Scale': '1 nl',\n",
       "  'Description': 'The actual pulse volume used in operating mode \"Pulse\".'},\n",
       " {'Address': '210',\n",
       "  'Register name': 'ActualPulseVolumeLO',\n",
       "  'Scale': 'NA',\n",
       "  'Description': 'Can be set via SetPulseVolume (register 00108-00109) or via the pump HMI.'},\n",
       " {'Address': '211',\n",
       "  'Register name': 'ActualBatchDosingVolumeHI',\n",
       "  'Scale': '0.001 ml',\n",
       "  'Description': 'Can be set via SetBatchDosingVolume (register 00110-00111) or via the pump'},\n",
       " {'Address': '212',\n",
       "  'Register name': 'ActualBatchDosingVolumeLO',\n",
       "  'Scale': 'NA',\n",
       "  'Description': 'HMI.'},\n",
       " {'Address': '213',\n",
       "  'Register name': 'ActualBatchDosingTimeHI',\n",
       "  'Scale': '0.1 s',\n",
       "  'Description': 'The actual batch dosing time used in operating mode \"Batch\".'},\n",
       " {'Address': '214',\n",
       "  'Register name': 'ActualBatchDosingTimeLO',\n",
       "  'Scale': 'NA',\n",
       "  'Description': 'Can be set via SetBatchDosingTime (register 00112-00113) or via the pump HMI.'},\n",
       " {'Address': '215',\n",
       "  'Register name': 'ActualPressureMax',\n",
       "  'Scale': '0.1 bar',\n",
       "  'Description': 'Actual value of (relative) pressure alarm limit setting.\\nCan be set via SetPressureMax (register 00114) or via the pump HMI.'},\n",
       " {'Address': '216',\n",
       "  'Register name': 'ControlSourceStates',\n",
       "  'Scale': 'Bits',\n",
       "  'Description': 'Status of start/stop control sources, \"1\" means \"Active\". They can be active\\nsimultaneously.\\nBit 0: Stop via pump HMI\\nBit 1: External stop\\nBit 2: Stop from bus.'},\n",
       " {'Address': '217',\n",
       "  'Register name': 'FaultCode',\n",
       "  'Scale': 'Enum',\n",
       "  'Description': 'NA'},\n",
       " {'Address': '218',\n",
       "  'Register name': 'WarningCode',\n",
       "  'Scale': 'Enum',\n",
       "  'Description': 'See section 8.11Alarms and warning.'},\n",
       " {'Address': '219',\n",
       "  'Register name': 'WarningBits',\n",
       "  'Scale': 'Bits',\n",
       "  'Description': 'NA'},\n",
       " {'Address': '220',\n",
       "  'Register name': 'DateTimeYear',\n",
       "  'Scale': 'NA',\n",
       "  'Description': 'Present value of the internal real-time clock (RTC).'},\n",
       " {'Address': '221',\n",
       "  'Register name': 'DateTimeMonth',\n",
       "  'Scale': 'NA',\n",
       "  'Description': 'Year (from year 2000)'},\n",
       " {'Address': '222',\n",
       "  'Register name': 'DateTimeDay',\n",
       "  'Scale': 'BCD',\n",
       "  'Description': 'Hour [0-23]'},\n",
       " {'Address': '223',\n",
       "  'Register name': 'DateTimeHour',\n",
       "  'Scale': 'NA',\n",
       "  'Description': 'Second [0-59]'},\n",
       " {'Address': '224',\n",
       "  'Register name': 'DateTimeMinute',\n",
       "  'Scale': 'NA',\n",
       "  'Description': '15:38:00, April 24 2011, is coded with hexadecimal numbers as:'},\n",
       " {'Address': '225',\n",
       "  'Register name': 'DateTimeSecond',\n",
       "  'Scale': 'NA',\n",
       "  'Description': 'Year = 11h, Month = 04h, Day = 24h, Hour = 15h, Minute = 38h, Second = 00h.'},\n",
       " {'Address': '301',\n",
       "  'Register name': 'DosingPressureMax',\n",
       "  'Scale': 'Bar',\n",
       "  'Description': 'Maximum dosing pressure, fixed factory-set value for this pump type.'},\n",
       " {'Address': '302',\n",
       "  'Register name': 'DosingCapacityMaxHI',\n",
       "  'Scale': '0.1 ml/h',\n",
       "  'Description': 'Maximum dosing capacity, fixed factory-set value for this pump type.'},\n",
       " {'Address': '303',\n",
       "  'Register name': 'DosingCapacityMaxLO',\n",
       "  'Scale': 'NA',\n",
       "  'Description': 'NA'},\n",
       " {'Address': '304',\n",
       "  'Register name': 'DosingCapacityReferenceHI',\n",
       "  'Scale': '0.1 ml/h',\n",
       "  'Description': 'The dosing capacity setpoint shown in the pump display. It represents the actual'},\n",
       " {'Address': '305',\n",
       "  'Register name': 'DosingCapacityReferenceLO',\n",
       "  'Scale': 'NA',\n",
       "  'Description': 'setpoint belonging to the actual operating mode and dosing state.'},\n",
       " {'Address': '306',\n",
       "  'Register name': 'MeasuredDosingCapacityHI',\n",
       "  'Scale': '0.1 ml/h',\n",
       "  'Description': 'Measured (actual) dosing capacity. FlowControl bit in control register 00102 must be enabled for this value to be available.'},\n",
       " {'Address': '307',\n",
       "  'Register name': 'MeasuredDosingCapacityLO',\n",
       "  'Scale': 'NA',\n",
       "  'Description': 'NA'},\n",
       " {'Address': '308',\n",
       "  'Register name': 'MeasuredPressure',\n",
       "  'Scale': '0.1 bar',\n",
       "  'Description': 'Measured absolute pressure.\\nFlowControl bit in control register 00102 must be enabled. Except for the\\natmospheric pressure, it corresponds to \"Backpressure\" reading in the display.'},\n",
       " {'Address': '309',\n",
       "  'Register name': 'PulseInputFrequency',\n",
       "  'Scale': '1 Hz',\n",
       "  'Description': 'Frequency of pulse input (external pulse input signal or Modbus Pulse command\\nin control register 00103).'},\n",
       " {'Address': '310',\n",
       "  'Register name': 'RemainingDosingVolumeHI',\n",
       "  'Scale': '0.001 ml',\n",
       "  'Description': 'Actual remaining volume to be dosed. Used in \"Batch\" mode.'},\n",
       " {'Address': '311',\n",
       "  'Register name': 'RemainingDosingVolumeLO',\n",
       "  'Scale': 'NA',\n",
       "  'Description': 'NA'},\n",
       " {'Address': '312',\n",
       "  'Register name': 'VolumeTotalHI',\n",
       "  'Scale': '0.001 l',\n",
       "  'Description': 'Total volume dosed (non-resettable).'},\n",
       " {'Address': '313',\n",
       "  'Register name': 'VolumeTotalLO',\n",
       "  'Scale': 'NA',\n",
       "  'Description': 'NA'},\n",
       " {'Address': '314',\n",
       "  'Register name': 'VolumeTripCounterHI',\n",
       "  'Scale': '0.001 l',\n",
       "  'Description': 'Dosed-volume trip counter (reset with ResetVolumeCounter command in control'},\n",
       " {'Address': '315',\n",
       "  'Register name': 'VolumeTripCounterLO',\n",
       "  'Scale': 'NA',\n",
       "  'Description': 'register 00103).'},\n",
       " {'Address': '320',\n",
       "  'Register name': 'NumberOfPowerOns',\n",
       "  'Scale': '-',\n",
       "  'Description': 'Counts the number of times the pump has been powered on (non-resettable).'},\n",
       " {'Address': '321',\n",
       "  'Register name': 'RunTimeHI',\n",
       "  'Scale': '1',\n",
       "  'Description': 'Counts the time the DDA pump has been dosing (non-resettable).'},\n",
       " {'Address': '322',\n",
       "  'Register name': 'RunTimeLO',\n",
       "  'Scale': 'NA',\n",
       "  'Description': 'NA'},\n",
       " {'Address': '323',\n",
       "  'Register name': 'OperatingHoursHI',\n",
       "  'Scale': '1 s',\n",
       "  'Description': 'Counts the number of hours the DDA pump has been switched on. It counts both'},\n",
       " {'Address': '324',\n",
       "  'Register name': 'OperatingHoursLO',\n",
       "  'Scale': 'NA',\n",
       "  'Description': 'when the pump is dosing and when it is not dosing.'},\n",
       " {'Address': '325',\n",
       "  'Register name': 'StrokeCounterHI',\n",
       "  'Scale': '-',\n",
       "  'Description': 'Counts the number of strokes (non-resettable).'},\n",
       " {'Address': '326',\n",
       "  'Register name': 'StrokeCounterLO',\n",
       "  'Scale': 'NA',\n",
       "  'Description': 'NA'},\n",
       " {'Address': '327',\n",
       "  'Register name': 'TimeToNextDosingHI',\n",
       "  'Scale': '1 s',\n",
       "  'Description': 'Time before the next dosing takes place (only in \"Timer\" mode).'},\n",
       " {'Address': '328',\n",
       "  'Register name': 'TimeToNextDosingLO',\n",
       "  'Scale': 'NA',\n",
       "  'Description': 'NA'}]"
      ]
     },
     "execution_count": 20,
     "metadata": {},
     "output_type": "execute_result"
    }
   ],
   "source": [
    "data"
   ]
  },
  {
   "cell_type": "code",
   "execution_count": 1,
   "id": "8c81b489",
   "metadata": {},
   "outputs": [],
   "source": [
    "import dash\n",
    "from dash.dependencies import Input, Output, State\n",
    "from dash import dash_table\n",
    "from dash import dcc\n",
    "from dash import html\n",
    "import dash_bootstrap_components as dbc"
   ]
  },
  {
   "cell_type": "code",
   "execution_count": 6,
   "id": "87073e7e",
   "metadata": {},
   "outputs": [],
   "source": [
    "def body():\n",
    "    return html.Div(\n",
    "                    children=\n",
    "                    [\n",
    "                        dbc.Card(\n",
    "                            dbc.CardBody(\n",
    "                                id='high-risk',\n",
    "                                children=[\n",
    "                                    html.H4(\"High Risk\", className=\"card-title\"),\n",
    "                                    html.P(\n",
    "                                        html.Div(\n",
    "                                        dcc.Graph(id='graph'))\n",
    "                                    ),\n",
    "                                ]\n",
    "                            ),\n",
    "                            style={\"width\": \"50rem\", \"height\": \"30rem\"},\n",
    "                        )\n",
    "                    ], style={'display': 'inline-block', 'marginLeft': 15}\n",
    "                )"
   ]
  },
  {
   "cell_type": "code",
   "execution_count": 3,
   "id": "fefa769d",
   "metadata": {},
   "outputs": [],
   "source": [
    "external_stylesheets = [dbc.themes.MINTY]\n",
    "app = dash.Dash(__name__, external_stylesheets=external_stylesheets)\n",
    "server = app.server\n",
    "app.config.suppress_callback_exceptions = True"
   ]
  },
  {
   "cell_type": "code",
   "execution_count": 7,
   "id": "b348d417",
   "metadata": {},
   "outputs": [],
   "source": [
    "app.layout = html.Div(\n",
    "    style={'background': 'white', 'width': '100%', 'height': '100%'},\n",
    "    id=\"big-app-container\",\n",
    "    children=[\n",
    "        body()\n",
    "    ]\n",
    ")"
   ]
  },
  {
   "cell_type": "code",
   "execution_count": 8,
   "id": "95203e7a",
   "metadata": {},
   "outputs": [
    {
     "name": "stdout",
     "output_type": "stream",
     "text": [
      "Dash is running on http://127.0.0.1:8050/\n",
      "\n",
      " * Serving Flask app '__main__' (lazy loading)\n",
      " * Environment: production\n",
      "\u001b[31m   WARNING: This is a development server. Do not use it in a production deployment.\u001b[0m\n",
      "\u001b[2m   Use a production WSGI server instead.\u001b[0m\n",
      " * Debug mode: off\n"
     ]
    },
    {
     "name": "stderr",
     "output_type": "stream",
     "text": [
      " * Running on http://127.0.0.1:8050 (Press CTRL+C to quit)\n",
      "127.0.0.1 - - [18/Sep/2022 13:19:07] \"GET / HTTP/1.1\" 200 -\n",
      "127.0.0.1 - - [18/Sep/2022 13:19:07] \"GET /_dash-layout HTTP/1.1\" 200 -\n",
      "127.0.0.1 - - [18/Sep/2022 13:19:07] \"GET /_dash-dependencies HTTP/1.1\" 200 -\n",
      "127.0.0.1 - - [18/Sep/2022 13:19:07] \"GET /_favicon.ico?v=2.5.1 HTTP/1.1\" 200 -\n",
      "127.0.0.1 - - [18/Sep/2022 13:19:07] \"GET /_dash-component-suites/dash/dcc/async-graph.js HTTP/1.1\" 304 -\n",
      "127.0.0.1 - - [18/Sep/2022 13:19:07] \"GET /_dash-component-suites/dash/dcc/async-plotlyjs.js HTTP/1.1\" 304 -\n"
     ]
    }
   ],
   "source": [
    "if __name__ == \"__main__\":\n",
    "    app.run(debug=False)"
   ]
  },
  {
   "cell_type": "code",
   "execution_count": 13,
   "id": "3d63f2dc",
   "metadata": {},
   "outputs": [
    {
     "ename": "SystemExit",
     "evalue": "1",
     "output_type": "error",
     "traceback": [
      "\u001b[1;31m---------------------------------------------------------------------------\u001b[0m",
      "\u001b[1;31mSystemExit\u001b[0m                                Traceback (most recent call last)",
      "Input \u001b[1;32mIn [12]\u001b[0m, in \u001b[0;36m<cell line: 1>\u001b[1;34m()\u001b[0m\n\u001b[0;32m      1\u001b[0m \u001b[38;5;28;01mif\u001b[39;00m \u001b[38;5;18m__name__\u001b[39m \u001b[38;5;241m==\u001b[39m \u001b[38;5;124m\"\u001b[39m\u001b[38;5;124m__main__\u001b[39m\u001b[38;5;124m\"\u001b[39m:\n\u001b[1;32m----> 2\u001b[0m     \u001b[43mapp\u001b[49m\u001b[38;5;241;43m.\u001b[39;49m\u001b[43mrun\u001b[49m\u001b[43m(\u001b[49m\u001b[43mdebug\u001b[49m\u001b[38;5;241;43m=\u001b[39;49m\u001b[38;5;28;43;01mTrue\u001b[39;49;00m\u001b[43m)\u001b[49m\n",
      "File \u001b[1;32m~\\AppData\\Local\\Programs\\Python\\Python310\\lib\\site-packages\\dash\\dash.py:2163\u001b[0m, in \u001b[0;36mDash.run\u001b[1;34m(self, host, port, proxy, debug, dev_tools_ui, dev_tools_props_check, dev_tools_serve_dev_bundles, dev_tools_hot_reload, dev_tools_hot_reload_interval, dev_tools_hot_reload_watch_interval, dev_tools_hot_reload_max_retry, dev_tools_silence_routes_logging, dev_tools_prune_errors, **flask_run_options)\u001b[0m\n\u001b[0;32m   2160\u001b[0m         \u001b[38;5;28;01melif\u001b[39;00m os\u001b[38;5;241m.\u001b[39mpath\u001b[38;5;241m.\u001b[39misfile(path):\n\u001b[0;32m   2161\u001b[0m             extra_files\u001b[38;5;241m.\u001b[39mappend(path)\n\u001b[1;32m-> 2163\u001b[0m \u001b[38;5;28mself\u001b[39m\u001b[38;5;241m.\u001b[39mserver\u001b[38;5;241m.\u001b[39mrun(host\u001b[38;5;241m=\u001b[39mhost, port\u001b[38;5;241m=\u001b[39mport, debug\u001b[38;5;241m=\u001b[39mdebug, \u001b[38;5;241m*\u001b[39m\u001b[38;5;241m*\u001b[39mflask_run_options)\n",
      "File \u001b[1;32m~\\AppData\\Local\\Programs\\Python\\Python310\\lib\\site-packages\\flask\\app.py:920\u001b[0m, in \u001b[0;36mFlask.run\u001b[1;34m(self, host, port, debug, load_dotenv, **options)\u001b[0m\n\u001b[0;32m    917\u001b[0m \u001b[38;5;28;01mfrom\u001b[39;00m \u001b[38;5;21;01mwerkzeug\u001b[39;00m\u001b[38;5;21;01m.\u001b[39;00m\u001b[38;5;21;01mserving\u001b[39;00m \u001b[38;5;28;01mimport\u001b[39;00m run_simple\n\u001b[0;32m    919\u001b[0m \u001b[38;5;28;01mtry\u001b[39;00m:\n\u001b[1;32m--> 920\u001b[0m     run_simple(t\u001b[38;5;241m.\u001b[39mcast(\u001b[38;5;28mstr\u001b[39m, host), port, \u001b[38;5;28mself\u001b[39m, \u001b[38;5;241m*\u001b[39m\u001b[38;5;241m*\u001b[39moptions)\n\u001b[0;32m    921\u001b[0m \u001b[38;5;28;01mfinally\u001b[39;00m:\n\u001b[0;32m    922\u001b[0m     \u001b[38;5;66;03m# reset the first request information if the development server\u001b[39;00m\n\u001b[0;32m    923\u001b[0m     \u001b[38;5;66;03m# reset normally.  This makes it possible to restart the server\u001b[39;00m\n\u001b[0;32m    924\u001b[0m     \u001b[38;5;66;03m# without reloader and that stuff from an interactive shell.\u001b[39;00m\n\u001b[0;32m    925\u001b[0m     \u001b[38;5;28mself\u001b[39m\u001b[38;5;241m.\u001b[39m_got_first_request \u001b[38;5;241m=\u001b[39m \u001b[38;5;28;01mFalse\u001b[39;00m\n",
      "File \u001b[1;32m~\\AppData\\Local\\Programs\\Python\\Python310\\lib\\site-packages\\werkzeug\\serving.py:1083\u001b[0m, in \u001b[0;36mrun_simple\u001b[1;34m(hostname, port, application, use_reloader, use_debugger, use_evalex, extra_files, exclude_patterns, reloader_interval, reloader_type, threaded, processes, request_handler, static_files, passthrough_errors, ssl_context)\u001b[0m\n\u001b[0;32m   1080\u001b[0m \u001b[38;5;28;01mif\u001b[39;00m use_reloader:\n\u001b[0;32m   1081\u001b[0m     \u001b[38;5;28;01mfrom\u001b[39;00m \u001b[38;5;21;01m.\u001b[39;00m\u001b[38;5;21;01m_reloader\u001b[39;00m \u001b[38;5;28;01mimport\u001b[39;00m run_with_reloader\n\u001b[1;32m-> 1083\u001b[0m     \u001b[43mrun_with_reloader\u001b[49m\u001b[43m(\u001b[49m\n\u001b[0;32m   1084\u001b[0m \u001b[43m        \u001b[49m\u001b[43msrv\u001b[49m\u001b[38;5;241;43m.\u001b[39;49m\u001b[43mserve_forever\u001b[49m\u001b[43m,\u001b[49m\n\u001b[0;32m   1085\u001b[0m \u001b[43m        \u001b[49m\u001b[43mextra_files\u001b[49m\u001b[38;5;241;43m=\u001b[39;49m\u001b[43mextra_files\u001b[49m\u001b[43m,\u001b[49m\n\u001b[0;32m   1086\u001b[0m \u001b[43m        \u001b[49m\u001b[43mexclude_patterns\u001b[49m\u001b[38;5;241;43m=\u001b[39;49m\u001b[43mexclude_patterns\u001b[49m\u001b[43m,\u001b[49m\n\u001b[0;32m   1087\u001b[0m \u001b[43m        \u001b[49m\u001b[43minterval\u001b[49m\u001b[38;5;241;43m=\u001b[39;49m\u001b[43mreloader_interval\u001b[49m\u001b[43m,\u001b[49m\n\u001b[0;32m   1088\u001b[0m \u001b[43m        \u001b[49m\u001b[43mreloader_type\u001b[49m\u001b[38;5;241;43m=\u001b[39;49m\u001b[43mreloader_type\u001b[49m\u001b[43m,\u001b[49m\n\u001b[0;32m   1089\u001b[0m \u001b[43m    \u001b[49m\u001b[43m)\u001b[49m\n\u001b[0;32m   1090\u001b[0m \u001b[38;5;28;01melse\u001b[39;00m:\n\u001b[0;32m   1091\u001b[0m     srv\u001b[38;5;241m.\u001b[39mserve_forever()\n",
      "File \u001b[1;32m~\\AppData\\Local\\Programs\\Python\\Python310\\lib\\site-packages\\werkzeug\\_reloader.py:444\u001b[0m, in \u001b[0;36mrun_with_reloader\u001b[1;34m(main_func, extra_files, exclude_patterns, interval, reloader_type)\u001b[0m\n\u001b[0;32m    442\u001b[0m             reloader\u001b[38;5;241m.\u001b[39mrun()\n\u001b[0;32m    443\u001b[0m     \u001b[38;5;28;01melse\u001b[39;00m:\n\u001b[1;32m--> 444\u001b[0m         \u001b[43msys\u001b[49m\u001b[38;5;241;43m.\u001b[39;49m\u001b[43mexit\u001b[49m\u001b[43m(\u001b[49m\u001b[43mreloader\u001b[49m\u001b[38;5;241;43m.\u001b[39;49m\u001b[43mrestart_with_reloader\u001b[49m\u001b[43m(\u001b[49m\u001b[43m)\u001b[49m\u001b[43m)\u001b[49m\n\u001b[0;32m    445\u001b[0m \u001b[38;5;28;01mexcept\u001b[39;00m \u001b[38;5;167;01mKeyboardInterrupt\u001b[39;00m:\n\u001b[0;32m    446\u001b[0m     \u001b[38;5;28;01mpass\u001b[39;00m\n",
      "\u001b[1;31mSystemExit\u001b[0m: 1"
     ]
    }
   ],
   "source": [
    "%tb"
   ]
  },
  {
   "cell_type": "code",
   "execution_count": 2,
   "id": "0a8dacb6",
   "metadata": {},
   "outputs": [],
   "source": [
    "data = {\"site\": \"digitalHUB\", \"pump\": \"dda1\", \"timestamp\": \"2022-09-19 16:27:30.316819\", \"metrics\": [{\"207\": \"37500\"}, {\"208\": \"11\"}, {\"209\": \"24104\"}, {\"210\": \"1\"}, {\"211\": \"8964\"}, {\"212\": \"0\"}, {\"213\": \"600\"}, {\"214\": \"170\"}, {\"215\": \"4\"}, {\"216\": \"0\"}, {\"217\": \"0\"}, {\"218\": \"0\"}, {\"219\": \"18\"}, {\"220\": \"7\"}, {\"221\": \"18\"}, {\"222\": \"0\"}, {\"223\": \"41\"}, {\"224\": \"49\"}, {\"225\": \"65535\"}, {\"301\": \"1\"}, {\"302\": \"9464\"}, {\"303\": \"0\"}, {\"304\": \"0\"}, {\"305\": \"0\"}, {\"306\": \"0\"}, {\"307\": \"10\"}, {\"308\": \"0\"}, {\"309\": \"0\"}, {\"310\": \"0\"}, {\"311\": \"0\"}, {\"312\": \"4509\"}, {\"313\": \"0\"}, {\"314\": \"4314\"}, {\"315\": \"0\"}, {\"320\": \"0\"}, {\"321\": \"0\"}, {\"322\": \"4\"}, {\"323\": \"63116\"}, {\"324\": \"0\"}, {\"325\": \"5969\"}, {\"326\": \"0\"}, {\"327\": \"0\"}, {\"328\": \"65535\"}]}"
   ]
  },
  {
   "cell_type": "code",
   "execution_count": 6,
   "id": "353cd971",
   "metadata": {},
   "outputs": [],
   "source": [
    "l = data['metrics']"
   ]
  },
  {
   "cell_type": "code",
   "execution_count": 13,
   "id": "5400b59e",
   "metadata": {},
   "outputs": [
    {
     "data": {
      "text/plain": [
       "'207'"
      ]
     },
     "execution_count": 13,
     "metadata": {},
     "output_type": "execute_result"
    }
   ],
   "source": [
    "list(l[0].keys())[0]"
   ]
  },
  {
   "cell_type": "code",
   "execution_count": 14,
   "id": "b902ab78",
   "metadata": {},
   "outputs": [
    {
     "data": {
      "text/plain": [
       "'37500'"
      ]
     },
     "execution_count": 14,
     "metadata": {},
     "output_type": "execute_result"
    }
   ],
   "source": [
    "list(l[0].values())[0]"
   ]
  },
  {
   "cell_type": "code",
   "execution_count": 15,
   "id": "01f43e59",
   "metadata": {},
   "outputs": [],
   "source": [
    "cols = [list(i.keys())[0] for i in l]"
   ]
  },
  {
   "cell_type": "code",
   "execution_count": 17,
   "id": "4c5f74f9",
   "metadata": {},
   "outputs": [],
   "source": [
    "vals = [list(i.values())[0] for i in l]"
   ]
  },
  {
   "cell_type": "code",
   "execution_count": 18,
   "id": "38108077",
   "metadata": {},
   "outputs": [
    {
     "data": {
      "text/plain": [
       "['37500',\n",
       " '11',\n",
       " '24104',\n",
       " '1',\n",
       " '8964',\n",
       " '0',\n",
       " '600',\n",
       " '170',\n",
       " '4',\n",
       " '0',\n",
       " '0',\n",
       " '0',\n",
       " '18',\n",
       " '7',\n",
       " '18',\n",
       " '0',\n",
       " '41',\n",
       " '49',\n",
       " '65535',\n",
       " '1',\n",
       " '9464',\n",
       " '0',\n",
       " '0',\n",
       " '0',\n",
       " '0',\n",
       " '10',\n",
       " '0',\n",
       " '0',\n",
       " '0',\n",
       " '0',\n",
       " '4509',\n",
       " '0',\n",
       " '4314',\n",
       " '0',\n",
       " '0',\n",
       " '0',\n",
       " '4',\n",
       " '63116',\n",
       " '0',\n",
       " '5969',\n",
       " '0',\n",
       " '0',\n",
       " '65535']"
      ]
     },
     "execution_count": 18,
     "metadata": {},
     "output_type": "execute_result"
    }
   ],
   "source": [
    "vals"
   ]
  },
  {
   "cell_type": "code",
   "execution_count": 23,
   "id": "b6a74e4a",
   "metadata": {},
   "outputs": [
    {
     "name": "stderr",
     "output_type": "stream",
     "text": [
      "C:\\Users\\ramachandran\\AppData\\Local\\Programs\\Python\\Python310\\lib\\site-packages\\pandas\\io\\sql.py:761: UserWarning: pandas only support SQLAlchemy connectable(engine/connection) ordatabase string URI or sqlite3 DBAPI2 connectionother DBAPI2 objects are not tested, please consider using SQLAlchemy\n",
      "  warnings.warn(\n"
     ]
    },
    {
     "data": {
      "text/html": [
       "<div>\n",
       "<style scoped>\n",
       "    .dataframe tbody tr th:only-of-type {\n",
       "        vertical-align: middle;\n",
       "    }\n",
       "\n",
       "    .dataframe tbody tr th {\n",
       "        vertical-align: top;\n",
       "    }\n",
       "\n",
       "    .dataframe thead th {\n",
       "        text-align: right;\n",
       "    }\n",
       "</style>\n",
       "<table border=\"1\" class=\"dataframe\">\n",
       "  <thead>\n",
       "    <tr style=\"text-align: right;\">\n",
       "      <th></th>\n",
       "      <th>Address</th>\n",
       "      <th>Register name</th>\n",
       "      <th>Scale</th>\n",
       "      <th>Description</th>\n",
       "    </tr>\n",
       "  </thead>\n",
       "  <tbody>\n",
       "    <tr>\n",
       "      <th>0</th>\n",
       "      <td>207</td>\n",
       "      <td>ActualSetpointManualHI</td>\n",
       "      <td>0.1 ml/h</td>\n",
       "      <td>The actual setpoint used in operating mode \"Ma...</td>\n",
       "    </tr>\n",
       "    <tr>\n",
       "      <th>1</th>\n",
       "      <td>208</td>\n",
       "      <td>ActualSetpointManualLO</td>\n",
       "      <td>NA</td>\n",
       "      <td>Can be set via SetpointManual (register 00106-...</td>\n",
       "    </tr>\n",
       "    <tr>\n",
       "      <th>2</th>\n",
       "      <td>209</td>\n",
       "      <td>ActualPulseVolumeHI</td>\n",
       "      <td>1 nl</td>\n",
       "      <td>The actual pulse volume used in operating mode...</td>\n",
       "    </tr>\n",
       "    <tr>\n",
       "      <th>3</th>\n",
       "      <td>210</td>\n",
       "      <td>ActualPulseVolumeLO</td>\n",
       "      <td>NA</td>\n",
       "      <td>Can be set via SetPulseVolume (register 00108-...</td>\n",
       "    </tr>\n",
       "    <tr>\n",
       "      <th>4</th>\n",
       "      <td>211</td>\n",
       "      <td>ActualBatchDosingVolumeHI</td>\n",
       "      <td>0.001 ml</td>\n",
       "      <td>Can be set via SetBatchDosingVolume (register ...</td>\n",
       "    </tr>\n",
       "    <tr>\n",
       "      <th>...</th>\n",
       "      <td>...</td>\n",
       "      <td>...</td>\n",
       "      <td>...</td>\n",
       "      <td>...</td>\n",
       "    </tr>\n",
       "    <tr>\n",
       "      <th>81</th>\n",
       "      <td>324</td>\n",
       "      <td>OperatingHoursLO</td>\n",
       "      <td>NA</td>\n",
       "      <td>when the pump is dosing and when it is not dos...</td>\n",
       "    </tr>\n",
       "    <tr>\n",
       "      <th>82</th>\n",
       "      <td>325</td>\n",
       "      <td>StrokeCounterHI</td>\n",
       "      <td>-</td>\n",
       "      <td>Counts the number of strokes (non-resettable).</td>\n",
       "    </tr>\n",
       "    <tr>\n",
       "      <th>83</th>\n",
       "      <td>326</td>\n",
       "      <td>StrokeCounterLO</td>\n",
       "      <td>NA</td>\n",
       "      <td>NA</td>\n",
       "    </tr>\n",
       "    <tr>\n",
       "      <th>84</th>\n",
       "      <td>327</td>\n",
       "      <td>TimeToNextDosingHI</td>\n",
       "      <td>1 s</td>\n",
       "      <td>Time before the next dosing takes place (only ...</td>\n",
       "    </tr>\n",
       "    <tr>\n",
       "      <th>85</th>\n",
       "      <td>328</td>\n",
       "      <td>TimeToNextDosingLO</td>\n",
       "      <td>NA</td>\n",
       "      <td>NA</td>\n",
       "    </tr>\n",
       "  </tbody>\n",
       "</table>\n",
       "<p>86 rows × 4 columns</p>\n",
       "</div>"
      ],
      "text/plain": [
       "   Address              Register name     Scale  \\\n",
       "0      207     ActualSetpointManualHI  0.1 ml/h   \n",
       "1      208     ActualSetpointManualLO        NA   \n",
       "2      209        ActualPulseVolumeHI      1 nl   \n",
       "3      210        ActualPulseVolumeLO        NA   \n",
       "4      211  ActualBatchDosingVolumeHI  0.001 ml   \n",
       "..     ...                        ...       ...   \n",
       "81     324           OperatingHoursLO        NA   \n",
       "82     325            StrokeCounterHI         -   \n",
       "83     326            StrokeCounterLO        NA   \n",
       "84     327         TimeToNextDosingHI       1 s   \n",
       "85     328         TimeToNextDosingLO        NA   \n",
       "\n",
       "                                          Description  \n",
       "0   The actual setpoint used in operating mode \"Ma...  \n",
       "1   Can be set via SetpointManual (register 00106-...  \n",
       "2   The actual pulse volume used in operating mode...  \n",
       "3   Can be set via SetPulseVolume (register 00108-...  \n",
       "4   Can be set via SetBatchDosingVolume (register ...  \n",
       "..                                                ...  \n",
       "81  when the pump is dosing and when it is not dos...  \n",
       "82     Counts the number of strokes (non-resettable).  \n",
       "83                                                 NA  \n",
       "84  Time before the next dosing takes place (only ...  \n",
       "85                                                 NA  \n",
       "\n",
       "[86 rows x 4 columns]"
      ]
     },
     "execution_count": 23,
     "metadata": {},
     "output_type": "execute_result"
    }
   ],
   "source": [
    "getData('PoC_SP_MonitoringTags',conn)"
   ]
  },
  {
   "cell_type": "code",
   "execution_count": null,
   "id": "3391b5ef",
   "metadata": {},
   "outputs": [],
   "source": []
  }
 ],
 "metadata": {
  "kernelspec": {
   "display_name": "Python 3 (ipykernel)",
   "language": "python",
   "name": "python3"
  },
  "language_info": {
   "codemirror_mode": {
    "name": "ipython",
    "version": 3
   },
   "file_extension": ".py",
   "mimetype": "text/x-python",
   "name": "python",
   "nbconvert_exporter": "python",
   "pygments_lexer": "ipython3",
   "version": "3.10.6"
  }
 },
 "nbformat": 4,
 "nbformat_minor": 5
}
